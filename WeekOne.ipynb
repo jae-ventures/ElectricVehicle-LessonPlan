{
 "cells": [
  {
   "cell_type": "markdown",
   "metadata": {},
   "source": [
    "# **Week 1: Introduction to Electric Vehicles (EVs)**\n",
    "**What's Covered**\n",
    "- Overview of Electric Vehicles\n",
    "- Significance and Environmental Impact\n",
    "- EV Components and Subsystems\n",
    "  \n",
    "**Assignments**\n",
    "- *Video Essays*\n",
    "  - Create a video essay or a series of shorts that cover some of the topics you have learned.\n",
    "- *Small Coding Project*\n",
    "  - Create a small program related to the topics covered. ChatGPT gave you an example one you can perform that could involve some data science and ML too if you'd like. ([Project Idea below](#project-electric-vehicle-efficiency-calculator))"
   ]
  },
  {
   "cell_type": "markdown",
   "metadata": {},
   "source": [
    "## **Day 1:**\n"
   ]
  },
  {
   "cell_type": "markdown",
   "metadata": {},
   "source": [
    "## Electric Vehicles Overview\n",
    "\n",
    "### What are EVs?\n",
    "The term *electric vehicle* covers any type of vehicle that uses one or more electric motors for propulsion that are powered by a battery or a collector system (think trolleybuses in the city) that retrieves electricity from an extravehicular source. Electric vehicles are charged either directly from the grid using EVSE or through solar panels, converting fuel to electricity with fuel cells or generators.\n",
    "\n",
    "Electric vehicles could include any of the following.\n",
    "- Cars\n",
    "- Buses\n",
    "- Trucks\n",
    "- Scooters\n",
    "- Motorcycles\n",
    "- Boats\n",
    "- Aircraft\n",
    "- Submarines\n",
    "- etc.\n",
    "\n",
    "### History of EVs\n",
    "- Early EVs first started popping up in the late 19th century after the Second Industrial Revolution.\n",
    "  - Electric motive power introduced in 1827 by Hungarian priest Anyos Jedlik with a crude but viable electric motor that was placed in a car by him in the 1828.\n",
    "  - \n",
    "- Early motor cars powered by electricity were the preferred form of travel compared to Internal Combustion Engines (ICEs) powered by gasoline and disel because of their quiteness, comfort, and ease of operation, but were soon outran by ICEs since range anxiety was a real issue as early battery systems were limited.\n",
    "- ICE vehicles have ruled for private transit for the past 100 years for their range benefits\n",
    "  - but electric propulsion was still popular for mass transit vehicles like electric trains, trams, monrails, and trolley buses.\n",
    "- Personal electric vehicles began to make a comeback in the late 1990s in the form of hybrid electric vehicles that supplemented some of the propulsion of the ICE with electric motors.\n",
    "- Plug-in hybrid electric vehicles (PHEVs) began seeing mass production in the late 2000s. These vehicles could provide propulsion predominantly through the electric motor rather than as a supplemant.\n",
    "- **Battery Electric Vehicles** (BEvs) didn't begin to become practical until the late 2010s\n",
    "  - Likely due to lack of charging infrastucture and profitability for automakers\n",
    "  - GM produced the EV1 in 1996, but as a lease vehicle and it was soon discontinued\n",
    "  - Toyota and Honda also released EVs in the late 90s and early 2000s, but they too where discontinued.\n",
    "  - When Tesla hit the market, however, with the Tesla Roadster which could get up to 245 miles of range (impressive for an early ev)\n",
    "    - While they weren't the first on the market, they made a significant shift that the whole industry in the 2020s has been working to catch up to or surpass\n",
    "    - \n",
    "\n",
    "\n",
    "> Sources:\n",
    "> - [Electric Vehicles | Wikipedia](https://en.wikipedia.org/wiki/Electric_vehicle)\n",
    "> - [What is an EV?](https://www.mckinsey.com/featured-insights/mckinsey-explainers/what-is-an-ev)\n",
    "> - [Electric Vehicles - an overview | ScienceDirect Topics](https://www.sciencedirect.com/topics/social-sciences/electric-vehicles)\n",
    "> - [The History of the Electric Car | Department of Energy](https://www.energy.gov/articles/history-electric-car)\n",
    "> - [First Electric Car: A Bref History of the EV, 1830 to Present | Car and Driver](https://www.caranddriver.com/features/g43480930/history-of-electric-cars/)"
   ]
  },
  {
   "cell_type": "markdown",
   "metadata": {},
   "source": []
  },
  {
   "cell_type": "code",
   "execution_count": null,
   "metadata": {},
   "outputs": [],
   "source": []
  },
  {
   "cell_type": "markdown",
   "metadata": {},
   "source": [
    "## Video Essay Outline\n"
   ]
  },
  {
   "cell_type": "markdown",
   "metadata": {},
   "source": [
    "## Project: Electric Vehicle Efficiency Calculator\n",
    "\n",
    "**Objective:** Build a simple Python/Kotlin program that calculates the efficiency of an electric vehicle (EV) based on basic input parameters.\n",
    "\n",
    "**Description:**\n",
    "\n",
    "In this project, students will create a Python/Kotlin program that allows users to input data about an electric vehicle, including its energy consumption, distance traveled, and the amount of energy consumed. The program will then calculate and display the vehicle's energy efficiency in miles per kilowatt-hour (MPKWh), a common measure of EV efficiency.\n",
    "\n",
    "**Requirements:**\n",
    "\n",
    "1. Create a Python/Kotlin program that takes user inputs for the following parameters:\n",
    "   - Energy consumed in kilowatt-hours (KWh)\n",
    "   - Distance traveled in miles (mi)\n",
    "\n",
    "2. Calculate the energy efficiency in miles per kilowatt-hour (MPKWh) using the formula:\n",
    "   MPKWh = Distance Traveled (mi) / Energy Consumed (KWh)\n",
    "\n",
    "3. Display the calculated energy efficiency to the user.\n",
    "\n",
    "4. Add a user-friendly interface that guides the user through inputting the necessary data and viewing the result.\n",
    "\n",
    "**Example Output:**\n",
    "\n",
    "```\n",
    "Welcome to the Electric Vehicle Efficiency Calculator!\n",
    "\n",
    "Please enter the energy consumed (KWh): 20\n",
    "Please enter the distance traveled (mi): 80\n",
    "\n",
    "Electric Vehicle Efficiency: 4.0 MPKWh\n",
    "```\n",
    "\n",
    "**Optional Enhancements:**\n",
    "\n",
    "To make the project more challenging and engaging, you can consider adding the following enhancements:\n",
    "\n",
    "- Allow users to input data for multiple trips and calculate the average efficiency.\n",
    "- Implement error handling to validate user inputs and provide feedback for invalid values.\n",
    "- Provide recommendations or comparisons with other vehicles to highlight the benefits of EVs.\n",
    "\n",
    "This project introduces students to basic coding concepts while also emphasizing the efficiency aspect of electric vehicles, which is a fundamental topic in EV engineering."
   ]
  },
  {
   "cell_type": "code",
   "execution_count": null,
   "metadata": {},
   "outputs": [],
   "source": []
  }
 ],
 "metadata": {
  "kernelspec": {
   "display_name": "Kotlin",
   "language": "kotlin",
   "name": "kotlin"
  },
  "language_info": {
   "name": "kotlin"
  }
 },
 "nbformat": 4,
 "nbformat_minor": 2
}

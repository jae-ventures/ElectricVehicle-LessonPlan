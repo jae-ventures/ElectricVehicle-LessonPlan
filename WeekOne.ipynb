{
 "cells": [
  {
   "cell_type": "markdown",
   "metadata": {},
   "source": [
    "# **Week 1: Introduction to Electric Vehicles (EVs)**\n",
    "**What's Covered**\n",
    "- Overview of Electric Vehicles\n",
    "- Significance and Environmental Impact\n",
    "- EV Components and Subsystems\n",
    "  \n",
    "**Assignments**\n",
    "- *Video Essays*\n",
    "  - Create a video essay or a series of shorts that cover some of the topics you have learned.\n",
    "- *Small Coding Project*\n",
    "  - Create a small program related to the topics covered. ChatGPT gave you an example one you can perform that could involve some data science and ML too if you'd like. ([Project Idea below](#project-electric-vehicle-efficiency-calculator))"
   ]
  },
  {
   "cell_type": "markdown",
   "metadata": {},
   "source": [
    "## **Day 1:**\n"
   ]
  },
  {
   "cell_type": "code",
   "execution_count": null,
   "metadata": {},
   "outputs": [],
   "source": []
  },
  {
   "cell_type": "markdown",
   "metadata": {},
   "source": [
    "## Video Essay Outline\n"
   ]
  },
  {
   "cell_type": "markdown",
   "metadata": {},
   "source": [
    "## Project: Electric Vehicle Efficiency Calculator\n",
    "\n",
    "**Objective:** Build a simple Python/Kotlin program that calculates the efficiency of an electric vehicle (EV) based on basic input parameters.\n",
    "\n",
    "**Description:**\n",
    "\n",
    "In this project, students will create a Python/Kotlin program that allows users to input data about an electric vehicle, including its energy consumption, distance traveled, and the amount of energy consumed. The program will then calculate and display the vehicle's energy efficiency in miles per kilowatt-hour (MPKWh), a common measure of EV efficiency.\n",
    "\n",
    "**Requirements:**\n",
    "\n",
    "1. Create a Python/Kotlin program that takes user inputs for the following parameters:\n",
    "   - Energy consumed in kilowatt-hours (KWh)\n",
    "   - Distance traveled in miles (mi)\n",
    "\n",
    "2. Calculate the energy efficiency in miles per kilowatt-hour (MPKWh) using the formula:\n",
    "   MPKWh = Distance Traveled (mi) / Energy Consumed (KWh)\n",
    "\n",
    "3. Display the calculated energy efficiency to the user.\n",
    "\n",
    "4. Add a user-friendly interface that guides the user through inputting the necessary data and viewing the result.\n",
    "\n",
    "**Example Output:**\n",
    "\n",
    "```\n",
    "Welcome to the Electric Vehicle Efficiency Calculator!\n",
    "\n",
    "Please enter the energy consumed (KWh): 20\n",
    "Please enter the distance traveled (mi): 80\n",
    "\n",
    "Electric Vehicle Efficiency: 4.0 MPKWh\n",
    "```\n",
    "\n",
    "**Optional Enhancements:**\n",
    "\n",
    "To make the project more challenging and engaging, you can consider adding the following enhancements:\n",
    "\n",
    "- Allow users to input data for multiple trips and calculate the average efficiency.\n",
    "- Implement error handling to validate user inputs and provide feedback for invalid values.\n",
    "- Provide recommendations or comparisons with other vehicles to highlight the benefits of EVs.\n",
    "\n",
    "This project introduces students to basic coding concepts while also emphasizing the efficiency aspect of electric vehicles, which is a fundamental topic in EV engineering."
   ]
  },
  {
   "cell_type": "code",
   "execution_count": null,
   "metadata": {},
   "outputs": [],
   "source": []
  }
 ],
 "metadata": {
  "kernelspec": {
   "display_name": "Kotlin",
   "language": "kotlin",
   "name": "kotlin"
  },
  "language_info": {
   "name": "kotlin"
  }
 },
 "nbformat": 4,
 "nbformat_minor": 2
}
